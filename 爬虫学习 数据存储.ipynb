{
 "cells": [
  {
   "cell_type": "markdown",
   "metadata": {},
   "source": [
    "# 实例"
   ]
  },
  {
   "cell_type": "code",
   "execution_count": 1,
   "metadata": {
    "collapsed": true
   },
   "outputs": [],
   "source": [
    "#实例\n",
    "import requests\n",
    "from pyquery import PyQuery as pq\n",
    "\n",
    "url = \"https://www.zhihu.com/explore\"\n",
    "headers = {\n",
    "    'User-Agent':'Mozilla/5.0 (Windows NT 10.0; WOW64) AppleWebKit/537.36 (KHTML, like Gecko) Chrome/58.0.3029.110 Safari/537.36'\n",
    "}\n",
    "\n",
    "html = requests.get(url, headers=headers).text\n",
    "doc = pq(html)\n",
    "items = doc('.explore-tab .feed-item').items()\n",
    "for item in items:\n",
    "    question = item.find('h2').text()\n",
    "    author = pq(item.find('.author-link-line').html()).text()\n",
    "    answer = pq(item.find('.content').html()).text()\n",
    "    my_file = open('explore.txt', 'a', encoding='utf-8')\n",
    "    my_file.write('\\n'.join([question, author, answer]))\n",
    "    my_file.write('\\n' + '='* 50 + '\\n')\n",
    "    my_file.close()"
   ]
  },
  {
   "cell_type": "markdown",
   "metadata": {},
   "source": [
    "# 简化写法"
   ]
  },
  {
   "cell_type": "code",
   "execution_count": null,
   "metadata": {
    "collapsed": true
   },
   "outputs": [],
   "source": [
    "#简化写法\n",
    "with open('explore.txt', 'a', encoding='utf-8') as file:\n",
    "    file.write('\\n'.join([question, author, answer]))\n",
    "    file.write('\\n' + '='* 50 + '\\n')\n",
    "    "
   ]
  },
  {
   "cell_type": "markdown",
   "metadata": {},
   "source": [
    "# JSON文件存储"
   ]
  },
  {
   "cell_type": "code",
   "execution_count": 13,
   "metadata": {},
   "outputs": [
    {
     "name": "stdout",
     "output_type": "stream",
     "text": [
      "\n",
      "[{\n",
      "    \"name\": \"Bob\",\n",
      "    \"gender\": \"male\",\n",
      "    \"birthday\": \"1992-10-18\"\n",
      "}]\n",
      "\n"
     ]
    }
   ],
   "source": [
    "#json文件存储\n",
    "#json的数据需要双引号来包围，单引号会报错\n",
    "#loads()方法将字符串转换为json对象\n",
    "#dumps()方法将json对象转换为文本字符串\n",
    "\n",
    "import json \n",
    "str1 = '''\n",
    "[{\n",
    "    \"name\": \"Bob\",\n",
    "    \"gender\": \"male\",\n",
    "    \"birthday\": \"1992-10-18\"\n",
    "}]\n",
    "'''\n",
    "\n",
    "data = json.loads(str1)\n",
    "\n",
    "with open('data.json', 'r') as f:\n",
    "    str = f.read()\n",
    "    data = json.loads(str)\n",
    "    print(data)"
   ]
  },
  {
   "cell_type": "markdown",
   "metadata": {},
   "source": [
    "# JSON输出"
   ]
  },
  {
   "cell_type": "code",
   "execution_count": 15,
   "metadata": {
    "collapsed": true
   },
   "outputs": [],
   "source": [
    "#输出json\n",
    "import json \n",
    "\n",
    "data = '''\n",
    "[{\n",
    "    \"name\": \"Bob\",\n",
    "    \"gender\": \"male\",\n",
    "    \"birthday\": \"1992-10-18\"\n",
    "}]\n",
    "'''\n",
    "\n",
    "with open('data.json', 'w') as f:\n",
    "    f.write(json.dumps(data, indent=2))"
   ]
  },
  {
   "cell_type": "code",
   "execution_count": 19,
   "metadata": {
    "collapsed": true
   },
   "outputs": [],
   "source": [
    "import json\n",
    "\n",
    "data = [{\n",
    "    \"name\": \"王伟\",\n",
    "    \"gender\": \"男\",\n",
    "    'birthday': \"1992-10-18\"\n",
    "}]\n",
    "\n",
    "with open('data.json', 'w') as f:\n",
    "    f.write(json.dumps(data, indent=2))\n"
   ]
  },
  {
   "cell_type": "code",
   "execution_count": 1,
   "metadata": {},
   "outputs": [
    {
     "ename": "NameError",
     "evalue": "name 'data' is not defined",
     "output_type": "error",
     "traceback": [
      "\u001b[1;31m---------------------------------------------------------------------------\u001b[0m",
      "\u001b[1;31mNameError\u001b[0m                                 Traceback (most recent call last)",
      "\u001b[1;32m<ipython-input-1-7a0e5c3bb781>\u001b[0m in \u001b[0;36m<module>\u001b[1;34m()\u001b[0m\n\u001b[0;32m      2\u001b[0m \u001b[1;32mimport\u001b[0m \u001b[0mjson\u001b[0m\u001b[1;33m\u001b[0m\u001b[0m\n\u001b[0;32m      3\u001b[0m \u001b[1;32mwith\u001b[0m \u001b[0mopen\u001b[0m\u001b[1;33m(\u001b[0m\u001b[1;34m'data.json'\u001b[0m\u001b[1;33m,\u001b[0m \u001b[1;34m'w'\u001b[0m\u001b[1;33m,\u001b[0m \u001b[0mencoding\u001b[0m\u001b[1;33m=\u001b[0m\u001b[1;34m'utf-8'\u001b[0m\u001b[1;33m)\u001b[0m \u001b[1;32mas\u001b[0m \u001b[0mf\u001b[0m\u001b[1;33m:\u001b[0m\u001b[1;33m\u001b[0m\u001b[0m\n\u001b[1;32m----> 4\u001b[1;33m     \u001b[0mf\u001b[0m\u001b[1;33m.\u001b[0m\u001b[0mwrite\u001b[0m\u001b[1;33m(\u001b[0m\u001b[0mjson\u001b[0m\u001b[1;33m.\u001b[0m\u001b[0mdumps\u001b[0m\u001b[1;33m(\u001b[0m\u001b[0mdata\u001b[0m\u001b[1;33m,\u001b[0m \u001b[0mindent\u001b[0m\u001b[1;33m=\u001b[0m\u001b[1;36m2\u001b[0m\u001b[1;33m,\u001b[0m \u001b[0mensure_ascii\u001b[0m\u001b[1;33m=\u001b[0m\u001b[1;32mFalse\u001b[0m\u001b[1;33m)\u001b[0m\u001b[1;33m)\u001b[0m\u001b[1;33m\u001b[0m\u001b[0m\n\u001b[0m\u001b[0;32m      5\u001b[0m \u001b[1;33m\u001b[0m\u001b[0m\n",
      "\u001b[1;31mNameError\u001b[0m: name 'data' is not defined"
     ]
    }
   ],
   "source": [
    "#为输出中文，需要转码\n",
    "import json\n",
    "with open('data.json', 'w', encoding='utf-8') as f:\n",
    "    f.write(json.dumps(data, indent=2, ensure_ascii=False))\n",
    "    "
   ]
  },
  {
   "cell_type": "markdown",
   "metadata": {},
   "source": [
    "# CSV文件存储\n"
   ]
  },
  {
   "cell_type": "code",
   "execution_count": 12,
   "metadata": {
    "ExecuteTime": {
     "start_time": "2019-07-21T11:35:52.860Z"
    },
    "collapsed": true
   },
   "outputs": [],
   "source": [
    "#CSV文件存储\n",
    "\n",
    "import csv\n",
    "\n",
    "with open('data.csv', 'w') as csvfile:\n",
    "    writer = csv.writer(csvfile) #通过添加参数delimiter来分隔\n",
    "    writer.writerow(['id','name','age'])\n",
    "    writer.writerow(['10001','Mike',20])\n",
    "    writer.writerow(['10002','Bob',22])\n",
    "    writer.writerow(['10003','Jordan',21])"
   ]
  },
  {
   "cell_type": "code",
   "execution_count": 18,
   "metadata": {},
   "outputs": [],
   "source": [
    "#字典写入方式\n",
    "import csv\n",
    "\n",
    "with open('data.csv', 'w') as csvfile:\n",
    "    fieldnames = ['id','name','age']\n",
    "    writer = csv.DictWriter(csvfile, fieldnames=fieldnames)\n",
    "    writer.writerow({'id': '10001', 'name': 'Mike', 'age': '20'})\n",
    "    writer.writerow({'id': '10002', 'name': 'Bob', 'age': '22'})\n",
    "    writer.writerow({'id': '10003', 'name': 'Jordan', 'age': '21'})\n",
    "    "
   ]
  },
  {
   "cell_type": "code",
   "execution_count": 20,
   "metadata": {
    "collapsed": true
   },
   "outputs": [],
   "source": [
    "#写入中文\n",
    "with open('data.csv', 'a', encoding='utf-8') as csvfile:\n",
    "    fieldnames = ['id', 'name', 'age']\n",
    "    writer = csv.DictWriter(csvfile, fieldnames=fieldnames)\n",
    "    writer.writerow({'id': '10004', 'name': 'Durant', 'age': '25'})\n",
    "    writer.writerow({'id': '10005', 'name': '王伟', 'age': '30'})\n",
    "    "
   ]
  },
  {
   "cell_type": "markdown",
   "metadata": {},
   "source": [
    "# CSV文件读取"
   ]
  },
  {
   "cell_type": "code",
   "execution_count": 21,
   "metadata": {},
   "outputs": [
    {
     "name": "stdout",
     "output_type": "stream",
     "text": [
      "['10001', 'Mike', '20']\n",
      "[]\n",
      "['10002', 'Bob', '22']\n",
      "[]\n",
      "['10003', 'Jordan', '21']\n",
      "[]\n",
      "['10004', 'Durant', '25']\n",
      "[]\n",
      "['10005', '王伟', '30']\n",
      "[]\n",
      "['10004', 'Durant', '25']\n",
      "[]\n",
      "['10005', '王伟', '30']\n",
      "[]\n"
     ]
    }
   ],
   "source": [
    "with open('data.csv', 'r', encoding='utf-8') as csvfile:\n",
    "    reader = csv.reader(csvfile)\n",
    "    for row in reader:\n",
    "        print(row)"
   ]
  },
  {
   "cell_type": "code",
   "execution_count": 24,
   "metadata": {},
   "outputs": [
    {
     "data": {
      "text/html": [
       "<div>\n",
       "<style>\n",
       "    .dataframe thead tr:only-child th {\n",
       "        text-align: right;\n",
       "    }\n",
       "\n",
       "    .dataframe thead th {\n",
       "        text-align: left;\n",
       "    }\n",
       "\n",
       "    .dataframe tbody tr th {\n",
       "        vertical-align: top;\n",
       "    }\n",
       "</style>\n",
       "<table border=\"1\" class=\"dataframe\">\n",
       "  <thead>\n",
       "    <tr style=\"text-align: right;\">\n",
       "      <th></th>\n",
       "      <th>id</th>\n",
       "      <th>name</th>\n",
       "      <th>age</th>\n",
       "    </tr>\n",
       "  </thead>\n",
       "  <tbody>\n",
       "    <tr>\n",
       "      <th>0</th>\n",
       "      <td>10001</td>\n",
       "      <td>Mike</td>\n",
       "      <td>20</td>\n",
       "    </tr>\n",
       "    <tr>\n",
       "      <th>1</th>\n",
       "      <td>10002</td>\n",
       "      <td>Bob</td>\n",
       "      <td>22</td>\n",
       "    </tr>\n",
       "    <tr>\n",
       "      <th>2</th>\n",
       "      <td>10003</td>\n",
       "      <td>Jordan</td>\n",
       "      <td>21</td>\n",
       "    </tr>\n",
       "    <tr>\n",
       "      <th>3</th>\n",
       "      <td>10004</td>\n",
       "      <td>Durant</td>\n",
       "      <td>25</td>\n",
       "    </tr>\n",
       "    <tr>\n",
       "      <th>4</th>\n",
       "      <td>10005</td>\n",
       "      <td>王伟</td>\n",
       "      <td>30</td>\n",
       "    </tr>\n",
       "    <tr>\n",
       "      <th>5</th>\n",
       "      <td>10004</td>\n",
       "      <td>Durant</td>\n",
       "      <td>25</td>\n",
       "    </tr>\n",
       "    <tr>\n",
       "      <th>6</th>\n",
       "      <td>10005</td>\n",
       "      <td>王伟</td>\n",
       "      <td>30</td>\n",
       "    </tr>\n",
       "  </tbody>\n",
       "</table>\n",
       "</div>"
      ],
      "text/plain": [
       "      id    name  age\n",
       "0  10001    Mike   20\n",
       "1  10002     Bob   22\n",
       "2  10003  Jordan   21\n",
       "3  10004  Durant   25\n",
       "4  10005      王伟   30\n",
       "5  10004  Durant   25\n",
       "6  10005      王伟   30"
      ]
     },
     "execution_count": 24,
     "metadata": {},
     "output_type": "execute_result"
    }
   ],
   "source": [
    "#运用pandas读取csv\n",
    "import pandas as pd\n",
    "header = ['id', 'name', 'age']\n",
    "df = pd.read_csv('data.csv', names=header)\n",
    "df\n"
   ]
  },
  {
   "cell_type": "code",
   "execution_count": null,
   "metadata": {
    "collapsed": true
   },
   "outputs": [],
   "source": []
  },
  {
   "cell_type": "code",
   "execution_count": null,
   "metadata": {
    "collapsed": true
   },
   "outputs": [],
   "source": []
  },
  {
   "cell_type": "code",
   "execution_count": null,
   "metadata": {
    "collapsed": true
   },
   "outputs": [],
   "source": []
  },
  {
   "cell_type": "code",
   "execution_count": null,
   "metadata": {
    "collapsed": true
   },
   "outputs": [],
   "source": []
  },
  {
   "cell_type": "code",
   "execution_count": null,
   "metadata": {
    "collapsed": true
   },
   "outputs": [],
   "source": []
  },
  {
   "cell_type": "code",
   "execution_count": null,
   "metadata": {
    "collapsed": true
   },
   "outputs": [],
   "source": []
  },
  {
   "cell_type": "code",
   "execution_count": null,
   "metadata": {
    "collapsed": true
   },
   "outputs": [],
   "source": []
  },
  {
   "cell_type": "code",
   "execution_count": null,
   "metadata": {
    "collapsed": true
   },
   "outputs": [],
   "source": []
  },
  {
   "cell_type": "code",
   "execution_count": null,
   "metadata": {
    "collapsed": true
   },
   "outputs": [],
   "source": []
  },
  {
   "cell_type": "code",
   "execution_count": null,
   "metadata": {
    "collapsed": true
   },
   "outputs": [],
   "source": []
  },
  {
   "cell_type": "code",
   "execution_count": null,
   "metadata": {
    "collapsed": true
   },
   "outputs": [],
   "source": []
  }
 ],
 "metadata": {
  "kernelspec": {
   "display_name": "Python 3",
   "language": "python",
   "name": "python3"
  },
  "language_info": {
   "codemirror_mode": {
    "name": "ipython",
    "version": 3
   },
   "file_extension": ".py",
   "mimetype": "text/x-python",
   "name": "python",
   "nbconvert_exporter": "python",
   "pygments_lexer": "ipython3",
   "version": "3.6.3"
  },
  "toc": {
   "base_numbering": 1,
   "nav_menu": {},
   "number_sections": true,
   "sideBar": true,
   "skip_h1_title": false,
   "title_cell": "Table of Contents",
   "title_sidebar": "Contents",
   "toc_cell": false,
   "toc_position": {},
   "toc_section_display": true,
   "toc_window_display": false
  }
 },
 "nbformat": 4,
 "nbformat_minor": 2
}
