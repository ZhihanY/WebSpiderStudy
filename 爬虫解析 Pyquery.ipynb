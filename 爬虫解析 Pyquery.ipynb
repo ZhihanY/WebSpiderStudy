{
 "cells": [
  {
   "cell_type": "code",
   "execution_count": 3,
   "metadata": {},
   "outputs": [
    {
     "name": "stdout",
     "output_type": "stream",
     "text": [
      "<li class=\"item-0\"><a href=\"link1.html\">first item</a></li>\n",
      "<li class=\"item-1\"><a href=\"link2.html\">second item</a></li>\n",
      "<li class=\"item-0 active\"><a href=\"link3.html\"><span class=\"bold&quot;\">third item</span></a></li>\n",
      "<li class=\"item-1 active\"><a href=\"link4.html\">fourth item</a></li>\n",
      "<li class=\"item-0\"><a href=\"link5.html\">fifth item</a></li>\n",
      "\n"
     ]
    }
   ],
   "source": [
    "from pyquery import PyQuery as pq\n",
    "\n",
    "html = '''\n",
    "<div>\n",
    "<ul>\n",
    "<li class='item-0'><a href='link1.html'>first item</a></li>\n",
    "<li class='item-1'><a href='link2.html'>second item</a></li>\n",
    "<li class='item-0 active'><a href='link3.html'><span class=bold\">third item</span></a></li>\n",
    "<li class='item-1 active'><a href='link4.html'>fourth item</a></li>\n",
    "<li class='item-0'><a href='link5.html'>fifth item</a></li>\n",
    "</ul>\n",
    "</div>\n",
    "\n",
    "'''\n",
    "doc = pq(html)\n",
    "print(doc('li'))"
   ]
  },
  {
   "cell_type": "code",
   "execution_count": 4,
   "metadata": {},
   "outputs": [
    {
     "name": "stdout",
     "output_type": "stream",
     "text": [
      "<title>静觅丨崔庆才的个人博客</title>&#13;\n",
      "\n"
     ]
    },
    {
     "data": {
      "text/plain": [
       "\"\\nimport requests\\ndoc = pq(requests.get('https://cuiqingcai.com').text)\\nprint(doc('title'))\\n\\n\""
      ]
     },
     "execution_count": 4,
     "metadata": {},
     "output_type": "execute_result"
    }
   ],
   "source": [
    "#url初始化\n",
    "from pyquery import PyQuery as pq\n",
    "doc = pq(url='https://cuiqingcai.com')\n",
    "print(doc('title'))\n",
    "\n",
    "#等同于\n",
    "'''\n",
    "import requests\n",
    "doc = pq(requests.get('https://cuiqingcai.com').text)\n",
    "print(doc('title'))\n",
    "\n",
    "'''\n"
   ]
  },
  {
   "cell_type": "code",
   "execution_count": null,
   "metadata": {
    "collapsed": true
   },
   "outputs": [],
   "source": [
    "#文件初始化\n",
    "doc = pq(filename='demo.html')\n",
    "print(doc)\n"
   ]
  },
  {
   "cell_type": "code",
   "execution_count": 10,
   "metadata": {},
   "outputs": [
    {
     "name": "stdout",
     "output_type": "stream",
     "text": [
      "<li class=\"item-0\"><a href=\"link1.html\">first item</a></li>\n",
      "<li class=\"item-1\"><a href=\"link2.html\">second item</a></li>\n",
      "<li class=\"item-0 active\"><a href=\"link3.html\"><span class=\"bold&quot;\">third item</span></a></li>\n",
      "<li class=\"item-1 active\"><a href=\"link4.html\">fourth item</a></li>\n",
      "<li class=\"item-0\"><a href=\"link5.html\">fifth item</a></li>\n",
      "\n",
      "<class 'pyquery.pyquery.PyQuery'>\n"
     ]
    }
   ],
   "source": [
    "#基本css选择器\n",
    "\n",
    "html = '''\n",
    "<div id=\"container\">\n",
    "<ul class=\"list\">\n",
    "<li class='item-0'><a href='link1.html'>first item</a></li>\n",
    "<li class='item-1'><a href='link2.html'>second item</a></li>\n",
    "<li class='item-0 active'><a href='link3.html'><span class=bold\">third item</span></a></li>\n",
    "<li class='item-1 active'><a href='link4.html'>fourth item</a></li>\n",
    "<li class='item-0'><a href='link5.html'>fifth item</a></li>\n",
    "</ul>\n",
    "</div>\n",
    "'''\n",
    "from pyquery import PyQuery as pq\n",
    "doc = pq(html)\n",
    "print(doc('#container .list li'))\n",
    "print(type(doc('#container .list li')))"
   ]
  },
  {
   "cell_type": "code",
   "execution_count": 12,
   "metadata": {},
   "outputs": [
    {
     "name": "stdout",
     "output_type": "stream",
     "text": [
      "<class 'pyquery.pyquery.PyQuery'>\n",
      "<ul class=\"list\">\n",
      "<li class=\"item-0\"><a href=\"link1.html\">first item</a></li>\n",
      "<li class=\"item-1\"><a href=\"link2.html\">second item</a></li>\n",
      "<li class=\"item-0 active\"><a href=\"link3.html\"><span class=\"bold&quot;\">third item</span></a></li>\n",
      "<li class=\"item-1 active\"><a href=\"link4.html\">fourth item</a></li>\n",
      "<li class=\"item-0\"><a href=\"link5.html\">fifth item</a></li>\n",
      "</ul>\n",
      "\n",
      "<li class=\"item-0\"><a href=\"link1.html\">first item</a></li>\n",
      "<li class=\"item-1\"><a href=\"link2.html\">second item</a></li>\n",
      "<li class=\"item-0 active\"><a href=\"link3.html\"><span class=\"bold&quot;\">third item</span></a></li>\n",
      "<li class=\"item-1 active\"><a href=\"link4.html\">fourth item</a></li>\n",
      "<li class=\"item-0\"><a href=\"link5.html\">fifth item</a></li>\n",
      "\n",
      "<class 'pyquery.pyquery.PyQuery'>\n"
     ]
    }
   ],
   "source": [
    "#查找节点\n",
    "#子节点\n",
    "from pyquery import PyQuery as pq\n",
    "items = doc('.list')\n",
    "print(type(items))\n",
    "print(items)\n",
    "lis = items.find('li')\n",
    "print(lis)\n",
    "print(type(lis))\n"
   ]
  },
  {
   "cell_type": "code",
   "execution_count": null,
   "metadata": {
    "collapsed": true
   },
   "outputs": [],
   "source": [
    "#只想查找子节点，用children()\n",
    "lis = items.children()\n",
    "print(type(lis))\n",
    "print(lis)"
   ]
  },
  {
   "cell_type": "code",
   "execution_count": 13,
   "metadata": {},
   "outputs": [
    {
     "name": "stdout",
     "output_type": "stream",
     "text": [
      "<class 'pyquery.pyquery.PyQuery'>\n",
      "<div id=\"container\">\n",
      "<ul class=\"list\">\n",
      "<li class=\"item-0\"><a href=\"link1.html\">first item</a></li>\n",
      "<li class=\"item-1\"><a href=\"link2.html\">second item</a></li>\n",
      "<li class=\"item-0 active\"><a href=\"link3.html\"><span class=\"bold&quot;\">third item</span></a></li>\n",
      "<li class=\"item-1 active\"><a href=\"link4.html\">fourth item</a></li>\n",
      "<li class=\"item-0\"><a href=\"link5.html\">fifth item</a></li>\n",
      "</ul>\n",
      "</div>\n",
      "\n"
     ]
    }
   ],
   "source": [
    "#父节点\n",
    "html = '''\n",
    "<div id=\"wrap\">\n",
    "<div id=\"container\">\n",
    "<ul class=\"list\">\n",
    "<li class='item-0'><a href='link1.html'>first item</a></li>\n",
    "<li class='item-1'><a href='link2.html'>second item</a></li>\n",
    "<li class='item-0 active'><a href='link3.html'><span class=bold\">third item</span></a></li>\n",
    "<li class='item-1 active'><a href='link4.html'>fourth item</a></li>\n",
    "<li class='item-0'><a href='link5.html'>fifth item</a></li>\n",
    "</ul>\n",
    "</div>\n",
    "</div>\n",
    "'''\n",
    "\n",
    "from pyquery import PyQuery as pq\n",
    "doc = pq(html)\n",
    "items = doc('.list')\n",
    "container = items.parent()\n",
    "print(type(container))\n",
    "print(container)\n",
    "\n",
    "#祖先节点有parents()方法\n",
    "#parents()会返回所有的祖先节点"
   ]
  },
  {
   "cell_type": "code",
   "execution_count": 15,
   "metadata": {},
   "outputs": [
    {
     "name": "stdout",
     "output_type": "stream",
     "text": [
      "<li class=\"item-1\"><a href=\"link2.html\">second item</a></li>\n",
      "<li class=\"item-0\"><a href=\"link1.html\">first item</a></li>\n",
      "<li class=\"item-1 active\"><a href=\"link4.html\">fourth item</a></li>\n",
      "<li class=\"item-0\"><a href=\"link5.html\">fifth item</a></li>\n",
      "\n",
      "\n",
      "\n",
      "<li class=\"item-1 active\"><a href=\"link4.html\">fourth item</a></li>\n",
      "\n"
     ]
    }
   ],
   "source": [
    "#兄弟节点\n",
    "from pyquery import PyQuery as pq\n",
    "doc = pq(html)\n",
    "li = doc('.list .item-0.active')\n",
    "print(li.siblings())\n",
    "print('\\n')\n",
    "print(li.siblings('.active'))"
   ]
  },
  {
   "cell_type": "code",
   "execution_count": 16,
   "metadata": {},
   "outputs": [
    {
     "name": "stdout",
     "output_type": "stream",
     "text": [
      "<class 'generator'>\n",
      "<li class=\"item-0 active\"><a href=\"link3.html\"><span class=\"bold&quot;\">third item</span></a></li>\n",
      " <class 'generator'>\n",
      "<li class=\"item-0 active\"><a href=\"link3.html\"><span class=\"bold&quot;\">third item</span></a></li>\n",
      " <class 'generator'>\n",
      "<li class=\"item-0 active\"><a href=\"link3.html\"><span class=\"bold&quot;\">third item</span></a></li>\n",
      " <class 'generator'>\n",
      "<li class=\"item-0 active\"><a href=\"link3.html\"><span class=\"bold&quot;\">third item</span></a></li>\n",
      " <class 'generator'>\n",
      "<li class=\"item-0 active\"><a href=\"link3.html\"><span class=\"bold&quot;\">third item</span></a></li>\n",
      " <class 'generator'>\n"
     ]
    }
   ],
   "source": [
    "#调用items()方法后获得一个生成器\n",
    "from pyquery import PyQuery as pq\n",
    "doc = pq(html)\n",
    "lis = doc('li').items()\n",
    "print(type(lis))\n",
    "for i in lis:\n",
    "    print(li, type(lis))"
   ]
  },
  {
   "cell_type": "code",
   "execution_count": 17,
   "metadata": {},
   "outputs": [
    {
     "name": "stdout",
     "output_type": "stream",
     "text": [
      "link4.html\n",
      "link4.html\n"
     ]
    }
   ],
   "source": [
    "#获取信息\n",
    "#获取属性用attr()方法\n",
    "a = doc('.item-1.active a')\n",
    "print(a.attr('href'))\n",
    "print(a.attr.href)"
   ]
  },
  {
   "cell_type": "code",
   "execution_count": null,
   "metadata": {
    "collapsed": true
   },
   "outputs": [],
   "source": [
    "#获取文本有text()\n"
   ]
  },
  {
   "cell_type": "code",
   "execution_count": null,
   "metadata": {
    "collapsed": true
   },
   "outputs": [],
   "source": []
  },
  {
   "cell_type": "code",
   "execution_count": null,
   "metadata": {
    "collapsed": true
   },
   "outputs": [],
   "source": []
  },
  {
   "cell_type": "code",
   "execution_count": null,
   "metadata": {
    "collapsed": true
   },
   "outputs": [],
   "source": []
  },
  {
   "cell_type": "code",
   "execution_count": null,
   "metadata": {
    "collapsed": true
   },
   "outputs": [],
   "source": []
  },
  {
   "cell_type": "code",
   "execution_count": null,
   "metadata": {
    "collapsed": true
   },
   "outputs": [],
   "source": []
  },
  {
   "cell_type": "code",
   "execution_count": null,
   "metadata": {
    "collapsed": true
   },
   "outputs": [],
   "source": []
  }
 ],
 "metadata": {
  "kernelspec": {
   "display_name": "Python 3",
   "language": "python",
   "name": "python3"
  },
  "language_info": {
   "codemirror_mode": {
    "name": "ipython",
    "version": 3
   },
   "file_extension": ".py",
   "mimetype": "text/x-python",
   "name": "python",
   "nbconvert_exporter": "python",
   "pygments_lexer": "ipython3",
   "version": "3.6.9"
  },
  "toc": {
   "base_numbering": 1,
   "nav_menu": {},
   "number_sections": true,
   "sideBar": true,
   "skip_h1_title": false,
   "title_cell": "Table of Contents",
   "title_sidebar": "Contents",
   "toc_cell": false,
   "toc_position": {},
   "toc_section_display": true,
   "toc_window_display": false
  }
 },
 "nbformat": 4,
 "nbformat_minor": 2
}
