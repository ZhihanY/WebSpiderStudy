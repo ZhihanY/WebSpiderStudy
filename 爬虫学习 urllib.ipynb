{
 "cells": [
  {
   "cell_type": "code",
   "execution_count": 5,
   "metadata": {
    "collapsed": true
   },
   "outputs": [],
   "source": [
    "#urllib\n",
    "from urllib import request, parse\n"
   ]
  },
  {
   "cell_type": "code",
   "execution_count": 2,
   "metadata": {},
   "outputs": [
    {
     "name": "stdout",
     "output_type": "stream",
     "text": [
      "200\n"
     ]
    }
   ],
   "source": [
    "response = request.urlopen('https://www.python.org')\n",
    "print(response.status)"
   ]
  },
  {
   "cell_type": "code",
   "execution_count": 11,
   "metadata": {},
   "outputs": [
    {
     "name": "stdout",
     "output_type": "stream",
     "text": [
      "b'{\\n  \"args\": {}, \\n  \"data\": \"\", \\n  \"files\": {}, \\n  \"form\": {\\n    \"word\": \"hello\"\\n  }, \\n  \"headers\": {\\n    \"Accept-Encoding\": \"identity\", \\n    \"Content-Length\": \"10\", \\n    \"Content-Type\": \"application/x-www-form-urlencoded\", \\n    \"Host\": \"httpbin.org\", \\n    \"User-Agent\": \"Python-urllib/3.6\"\\n  }, \\n  \"json\": null, \\n  \"origin\": \"183.220.24.90, 183.220.24.90\", \\n  \"url\": \"https://httpbin.org/post\"\\n}\\n'\n"
     ]
    }
   ],
   "source": [
    "#Get\n",
    "data = bytes(parse.urlencode({'word': 'hello'}), encoding='utf8')\n",
    "response = request.urlopen('http://httpbin.org/post', data = data)\n",
    "print(response.read())"
   ]
  },
  {
   "cell_type": "code",
   "execution_count": 1,
   "metadata": {
    "collapsed": true
   },
   "outputs": [],
   "source": [
    "import urllib.request\n",
    "\n",
    "req = urllib.request.Request('https://python.org')\n",
    "response = urllib.request.urlopen(req)\n",
    "#print(response.read().decode('utf-8'))"
   ]
  },
  {
   "cell_type": "code",
   "execution_count": 7,
   "metadata": {},
   "outputs": [
    {
     "name": "stdout",
     "output_type": "stream",
     "text": [
      "{\n",
      "  \"args\": {}, \n",
      "  \"data\": \"\", \n",
      "  \"files\": {}, \n",
      "  \"form\": {\n",
      "    \"name\": \"Germey\"\n",
      "  }, \n",
      "  \"headers\": {\n",
      "    \"Accept-Encoding\": \"identity\", \n",
      "    \"Content-Length\": \"11\", \n",
      "    \"Content-Type\": \"application/x-www-form-urlencoded\", \n",
      "    \"Host\": \"http\", \n",
      "    \"User-Agent\": \"Mozilla/5.0 (Windows NT 10.0; WOW64) AppleWebKit/537.36 (KHTML, like Gecko) Chrome/58.0.3029.110 Safari/537.36 SE 2.X MetaSr 1.0\"\n",
      "  }, \n",
      "  \"json\": null, \n",
      "  \"origin\": \"183.220.24.90, 183.220.24.90\", \n",
      "  \"url\": \"https://http/post\"\n",
      "}\n",
      "\n"
     ]
    }
   ],
   "source": [
    "#Post\n",
    "url = 'http://httpbin.org/post'\n",
    "headers = {\n",
    "    'User-Agent': 'Mozilla/5.0 (Windows NT 10.0; WOW64) AppleWebKit/537.36 (KHTML, like Gecko) Chrome/58.0.3029.110 Safari/537.36 SE 2.X MetaSr 1.0',\n",
    "    'Host': 'http://httpbin.org'\n",
    "}\n",
    "\n",
    "my_dict = {\n",
    "   'name': 'Germey'\n",
    "}\n",
    "data = bytes(parse.urlencode(my_dict), encoding='utf8')\n",
    "req = request.Request(url=url, data=data, headers=headers,method='POST')\n",
    "response = request.urlopen(req)\n",
    "print(response.read().decode('utf-8'))"
   ]
  },
  {
   "cell_type": "code",
   "execution_count": null,
   "metadata": {
    "collapsed": true
   },
   "outputs": [],
   "source": [
    "#Handler\n"
   ]
  },
  {
   "cell_type": "code",
   "execution_count": 15,
   "metadata": {},
   "outputs": [
    {
     "name": "stdout",
     "output_type": "stream",
     "text": [
      "[WinError 10060] 由于连接方在一段时间后没有正确答复或连接的主机没有反应，连接尝试失败。\n"
     ]
    }
   ],
   "source": [
    "#proxy\n",
    "from urllib.error import URLError\n",
    "from urllib.request import ProxyHandler, build_opener\n",
    "\n",
    "proxy_handler = ProxyHandler({\n",
    "    'http': 'http://127.0.0.1:9743',\n",
    "    'https': 'https://127.0.0.1.:9743'\n",
    "}\n",
    ")\n",
    "opener = build_opener(proxy_handler)\n",
    "try:\n",
    "    response = opener.open('https://www.baidu.com')\n",
    "    print(response.read().decode('utf-8'))\n",
    "except URLError as e:\n",
    "    print(e.reason)\n"
   ]
  },
  {
   "cell_type": "code",
   "execution_count": 14,
   "metadata": {},
   "outputs": [
    {
     "name": "stdout",
     "output_type": "stream",
     "text": [
      "BIDUPSID=AD31E82D65EC4BF5831795A511B11585\n",
      "PSTM=1562813122\n",
      "BD_NOT_HTTPS=1\n"
     ]
    }
   ],
   "source": [
    "#cookies\n",
    "import http.cookiejar, urllib.request\n",
    "\n",
    "cookie = http.cookiejar.CookieJar()\n",
    "handler = urllib.request.HTTPCookieProcessor(cookie)\n",
    "opener = urllib.request.build_opener(handler)\n",
    "response = opener.open('https://www.baidu.com')\n",
    "for item in cookie:\n",
    "    print(item.name + '=' +item.value)"
   ]
  },
  {
   "cell_type": "code",
   "execution_count": 16,
   "metadata": {
    "collapsed": true
   },
   "outputs": [],
   "source": [
    "#cookie存储\n",
    "#cookie.save() cookie.load()\n",
    "filename = 'cookie.txt'\n",
    "cookie2 = http.cookiejar.MozillaCookieJar(filename)\n",
    "handler = urllib.request.HTTPCookieProcessor(cookie2)\n",
    "opener = urllib.request.build_opener(handler)\n",
    "response = opener.open('https://www.baidu.com')\n",
    "cookie2.save(ignore_discard=True, ignore_expires=True)"
   ]
  },
  {
   "cell_type": "code",
   "execution_count": null,
   "metadata": {
    "collapsed": true
   },
   "outputs": [],
   "source": [
    "cookie2.load()\n",
    "#此处联系cookie的作用\n"
   ]
  },
  {
   "cell_type": "code",
   "execution_count": 3,
   "metadata": {},
   "outputs": [
    {
     "name": "stdout",
     "output_type": "stream",
     "text": [
      "Not Found\n",
      "404\n",
      "Server: nginx/1.10.3 (Ubuntu)\n",
      "Date: Thu, 11 Jul 2019 10:43:04 GMT\n",
      "Content-Type: text/html; charset=UTF-8\n",
      "Transfer-Encoding: chunked\n",
      "Connection: close\n",
      "Set-Cookie: PHPSESSID=9h2etq2tej4hjm0p2h7palfof2; path=/\n",
      "Pragma: no-cache\n",
      "Vary: Cookie\n",
      "Expires: Wed, 11 Jan 1984 05:00:00 GMT\n",
      "Cache-Control: no-cache, must-revalidate, max-age=0\n",
      "Link: <https://cuiqingcai.com/wp-json/>; rel=\"https://api.w.org/\"\n",
      "\n",
      "\n"
     ]
    }
   ],
   "source": [
    "#处理异常\n",
    "#使用异常模块得到作用在于不中断程序运行\n",
    "from urllib import request, error\n",
    "\n",
    "try:\n",
    "    response = request.urlopen('http://cuiqingcai.com/index.htm')\n",
    "except error.HTTPError as e:\n",
    "    print(e.reason, e.code, e.headers, sep='\\n')\n",
    "except error.URLError as e:\n",
    "    print(e.reason, e.code, e.headers, sep='\\n')\n",
    "else:\n",
    "    print('wtf!')\n",
    "\n",
    "#这样可以做到先捕获HTTPError，因为HTTPError是URLError的子类"
   ]
  },
  {
   "cell_type": "code",
   "execution_count": 5,
   "metadata": {},
   "outputs": [
    {
     "data": {
      "text/plain": [
       "ParseResult(scheme='https', netloc='www.baidu.com', path='/index.html', params='user', query='id=5', fragment='comment')"
      ]
     },
     "execution_count": 5,
     "metadata": {},
     "output_type": "execute_result"
    }
   ],
   "source": [
    "#解析链接\n",
    "from urllib.parse import urlparse\n",
    "\n",
    "result = urlparse('https://www.baidu.com/index.html;user?id=5#comment')\n",
    "result\n",
    "#URL大都遵循6个部分的规则\n",
    "#返回结果ParseResult实际上是一个元组\n",
    "\n",
    "\n"
   ]
  },
  {
   "cell_type": "code",
   "execution_count": 6,
   "metadata": {},
   "outputs": [
    {
     "data": {
      "text/plain": [
       "ParseResult(scheme='https', netloc='www.huya.com', path='/g/1669', params='', query='', fragment='')"
      ]
     },
     "execution_count": 6,
     "metadata": {},
     "output_type": "execute_result"
    }
   ],
   "source": [
    "urlparse('https://www.huya.com/g/1669')"
   ]
  },
  {
   "cell_type": "code",
   "execution_count": null,
   "metadata": {
    "collapsed": true
   },
   "outputs": [],
   "source": [
    "#urlunparse"
   ]
  },
  {
   "cell_type": "code",
   "execution_count": 9,
   "metadata": {},
   "outputs": [
    {
     "name": "stdout",
     "output_type": "stream",
     "text": [
      "SplitResult(scheme='https', netloc='www.baidu.com', path='/index.html;user', query='id=5', fragment='comment')\n"
     ]
    }
   ],
   "source": [
    "#urlsplit\n",
    "#与urlparse相似，但只返回5个结果\n",
    "\n",
    "from urllib.parse import urlsplit\n",
    "\n",
    "result = urlsplit('https://www.baidu.com/index.html;user?id=5#comment')\n",
    "print(result)"
   ]
  },
  {
   "cell_type": "code",
   "execution_count": null,
   "metadata": {
    "collapsed": true
   },
   "outputs": [],
   "source": [
    "#urlunsplit"
   ]
  },
  {
   "cell_type": "code",
   "execution_count": null,
   "metadata": {
    "collapsed": true
   },
   "outputs": [],
   "source": [
    "#urljoin\n"
   ]
  },
  {
   "cell_type": "code",
   "execution_count": 12,
   "metadata": {},
   "outputs": [
    {
     "name": "stdout",
     "output_type": "stream",
     "text": [
      "{'name': ['ZhihanYang'], 'age': ['24']}\n",
      "[('name', 'ZhihanYang'), ('age', '24')]\n"
     ]
    }
   ],
   "source": [
    "#序列化与反序列化\n",
    "#urlencode & parse_qs\n",
    "from urllib.parse import parse_qs, parse_qsl\n",
    "\n",
    "query = 'name=ZhihanYang&age=24'\n",
    "print(parse_qs(query))\n",
    "print(parse_qsl(query))"
   ]
  },
  {
   "cell_type": "code",
   "execution_count": null,
   "metadata": {
    "collapsed": true
   },
   "outputs": [],
   "source": [
    "#quote\n",
    "#将内容转化为URL编码的方式\n",
    "#unquote 对内容进行解码\n",
    "\n"
   ]
  },
  {
   "cell_type": "code",
   "execution_count": 14,
   "metadata": {},
   "outputs": [
    {
     "name": "stdout",
     "output_type": "stream",
     "text": [
      "True\n",
      "True\n"
     ]
    }
   ],
   "source": [
    "#分析robots协议\n",
    "#robotparser\n",
    "from urllib.robotparser import RobotFileParser\n",
    "\n",
    "rp = RobotFileParser()\n",
    "rp.set_url('http://www.ngchina.com.cn/')\n",
    "rp.read()\n",
    "print(rp.can_fetch('*', 'http://www.ngchina.com.cn/index.php?m=content&c=index&a=lists&catid=667'))\n",
    "print(rp.can_fetch('*', 'http://www.ngchina.com.cn/index.php?m=content&c=index&a=lists&catid=668'))"
   ]
  },
  {
   "cell_type": "code",
   "execution_count": null,
   "metadata": {
    "collapsed": true
   },
   "outputs": [],
   "source": []
  },
  {
   "cell_type": "code",
   "execution_count": null,
   "metadata": {
    "collapsed": true
   },
   "outputs": [],
   "source": []
  },
  {
   "cell_type": "code",
   "execution_count": null,
   "metadata": {
    "collapsed": true
   },
   "outputs": [],
   "source": []
  }
 ],
 "metadata": {
  "kernelspec": {
   "display_name": "Python 3",
   "language": "python",
   "name": "python3"
  },
  "language_info": {
   "codemirror_mode": {
    "name": "ipython",
    "version": 3
   },
   "file_extension": ".py",
   "mimetype": "text/x-python",
   "name": "python",
   "nbconvert_exporter": "python",
   "pygments_lexer": "ipython3",
   "version": "3.6.3"
  }
 },
 "nbformat": 4,
 "nbformat_minor": 2
}
