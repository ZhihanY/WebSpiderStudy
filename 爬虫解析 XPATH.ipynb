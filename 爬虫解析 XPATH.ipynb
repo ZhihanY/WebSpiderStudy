{
 "cells": [
  {
   "cell_type": "code",
   "execution_count": 1,
   "metadata": {
    "ExecuteTime": {
     "end_time": "2019-10-19T02:10:01.446978Z",
     "start_time": "2019-10-19T02:10:01.407104Z"
    }
   },
   "outputs": [
    {
     "name": "stdout",
     "output_type": "stream",
     "text": [
      "<html><body><div>\n",
      "<ul>\n",
      "<li class=\"item-0\"><a href=\"link1.html\">first item</a></li>\n",
      "<li class=\"item-1\"><a href=\"link2.html\">second item</a></li>\n",
      "<li class=\"item-inactive\"><a href=\"link3.html\">third item</a></li>\n",
      "<li class=\"item-1\"><a href=\"link4.html\">fourth item</a></li>\n",
      "<li class=\"item-0\"><a href=\"link5.html\">fifth item</a>\n",
      "</li></ul>\n",
      "</div>\n",
      "\n",
      "</body></html>\n"
     ]
    }
   ],
   "source": [
    "from lxml import etree\n",
    "#etree模块可以自动修正HTML文本\n",
    "text = '''\n",
    "<div>\n",
    "<ul>\n",
    "<li class='item-0'><a href='link1.html'>first item</a></li>\n",
    "<li class='item-1'><a href='link2.html'>second item</a></li>\n",
    "<li class='item-inactive'><a href='link3.html'>third item</a></li>\n",
    "<li class='item-1'><a href='link4.html'>fourth item</a></li>\n",
    "<li class='item-0'><a href='link5.html'>fifth item</a>\n",
    "</ul>\n",
    "</div>\n",
    "\n",
    "'''\n",
    "\n",
    "html = etree.HTML(text)\n",
    "result = etree.tostring(html)\n",
    "print(result.decode('utf-8'))"
   ]
  },
  {
   "cell_type": "code",
   "execution_count": 2,
   "metadata": {
    "ExecuteTime": {
     "end_time": "2019-10-14T22:04:54.603864Z",
     "start_time": "2019-10-14T22:04:54.459277Z"
    }
   },
   "outputs": [
    {
     "ename": "OSError",
     "evalue": "Error reading file '/.test.html': failed to load external entity \"/.test.html\"",
     "output_type": "error",
     "traceback": [
      "\u001b[1;31m---------------------------------------------------------------------------\u001b[0m",
      "\u001b[1;31mOSError\u001b[0m                                   Traceback (most recent call last)",
      "\u001b[1;32m<ipython-input-2-589628b88082>\u001b[0m in \u001b[0;36m<module>\u001b[1;34m\u001b[0m\n\u001b[0;32m      1\u001b[0m \u001b[1;31m#直接读取文本进行解析\u001b[0m\u001b[1;33m\u001b[0m\u001b[1;33m\u001b[0m\u001b[1;33m\u001b[0m\u001b[0m\n\u001b[1;32m----> 2\u001b[1;33m \u001b[0mhtml\u001b[0m \u001b[1;33m=\u001b[0m \u001b[0metree\u001b[0m\u001b[1;33m.\u001b[0m\u001b[0mparse\u001b[0m\u001b[1;33m(\u001b[0m\u001b[1;34m'/.test.html'\u001b[0m\u001b[1;33m,\u001b[0m \u001b[0metree\u001b[0m\u001b[1;33m.\u001b[0m\u001b[0mHTMLParser\u001b[0m\u001b[1;33m(\u001b[0m\u001b[1;33m)\u001b[0m\u001b[1;33m)\u001b[0m\u001b[1;33m\u001b[0m\u001b[1;33m\u001b[0m\u001b[0m\n\u001b[0m\u001b[0;32m      3\u001b[0m \u001b[0mresult\u001b[0m \u001b[1;33m=\u001b[0m \u001b[0metree\u001b[0m\u001b[1;33m.\u001b[0m\u001b[0mtostring\u001b[0m\u001b[1;33m(\u001b[0m\u001b[0mhtml\u001b[0m\u001b[1;33m)\u001b[0m\u001b[1;33m\u001b[0m\u001b[1;33m\u001b[0m\u001b[0m\n\u001b[0;32m      4\u001b[0m \u001b[0mprint\u001b[0m\u001b[1;33m(\u001b[0m\u001b[0mresult\u001b[0m\u001b[1;33m.\u001b[0m\u001b[0mdecode\u001b[0m\u001b[1;33m(\u001b[0m\u001b[1;34m'utf-8'\u001b[0m\u001b[1;33m)\u001b[0m\u001b[1;33m)\u001b[0m\u001b[1;33m\u001b[0m\u001b[1;33m\u001b[0m\u001b[0m\n",
      "\u001b[1;32msrc/lxml/etree.pyx\u001b[0m in \u001b[0;36mlxml.etree.parse\u001b[1;34m()\u001b[0m\n",
      "\u001b[1;32msrc/lxml/parser.pxi\u001b[0m in \u001b[0;36mlxml.etree._parseDocument\u001b[1;34m()\u001b[0m\n",
      "\u001b[1;32msrc/lxml/parser.pxi\u001b[0m in \u001b[0;36mlxml.etree._parseDocumentFromURL\u001b[1;34m()\u001b[0m\n",
      "\u001b[1;32msrc/lxml/parser.pxi\u001b[0m in \u001b[0;36mlxml.etree._parseDocFromFile\u001b[1;34m()\u001b[0m\n",
      "\u001b[1;32msrc/lxml/parser.pxi\u001b[0m in \u001b[0;36mlxml.etree._BaseParser._parseDocFromFile\u001b[1;34m()\u001b[0m\n",
      "\u001b[1;32msrc/lxml/parser.pxi\u001b[0m in \u001b[0;36mlxml.etree._ParserContext._handleParseResultDoc\u001b[1;34m()\u001b[0m\n",
      "\u001b[1;32msrc/lxml/parser.pxi\u001b[0m in \u001b[0;36mlxml.etree._handleParseResult\u001b[1;34m()\u001b[0m\n",
      "\u001b[1;32msrc/lxml/parser.pxi\u001b[0m in \u001b[0;36mlxml.etree._raiseParseError\u001b[1;34m()\u001b[0m\n",
      "\u001b[1;31mOSError\u001b[0m: Error reading file '/.test.html': failed to load external entity \"/.test.html\""
     ]
    }
   ],
   "source": [
    "#直接读取文本进行解析\n",
    "html = etree.parse('/.test.html', etree.HTMLParser())\n",
    "result = etree.tostring(html)\n",
    "print(result.decode('utf-8'))\n"
   ]
  },
  {
   "cell_type": "code",
   "execution_count": 4,
   "metadata": {},
   "outputs": [
    {
     "name": "stdout",
     "output_type": "stream",
     "text": [
      "[<Element li at 0x15eb8d4bb48>, <Element li at 0x15eb8d4bb08>, <Element li at 0x15eb8f32148>, <Element li at 0x15eb8f32188>]\n",
      "<Element li at 0x15eb8d4bb48>\n"
     ]
    }
   ],
   "source": [
    "#如果想匹配所有<li>节点\n",
    "result = html.xpath('//li')\n",
    "print(result)\n",
    "print(result[0])"
   ]
  },
  {
   "cell_type": "code",
   "execution_count": 5,
   "metadata": {},
   "outputs": [
    {
     "name": "stdout",
     "output_type": "stream",
     "text": [
      "[<Element a at 0x15eb8f32448>, <Element a at 0x15eb8f32088>, <Element a at 0x15eb8f326c8>, <Element a at 0x15eb8f32708>, <Element a at 0x15eb8f32748>]\n"
     ]
    }
   ],
   "source": [
    "#子节点\n",
    "result = html.xpath('//li/a')\n",
    "#reuslt = html.xpath('//ul//a')\n",
    "print(result)"
   ]
  },
  {
   "cell_type": "code",
   "execution_count": 2,
   "metadata": {
    "ExecuteTime": {
     "end_time": "2019-10-19T02:10:08.545021Z",
     "start_time": "2019-10-19T02:10:08.541037Z"
    }
   },
   "outputs": [
    {
     "name": "stdout",
     "output_type": "stream",
     "text": [
      "['item-1']\n"
     ]
    }
   ],
   "source": [
    "#父节点\n",
    "from lxml import etree\n",
    "\n",
    "#html = etree.parse()\n",
    "result = html.xpath('//a[@href=\"link4.html\"]/../@class')\n",
    "print(result)\n",
    "\n"
   ]
  },
  {
   "cell_type": "code",
   "execution_count": 6,
   "metadata": {},
   "outputs": [
    {
     "name": "stdout",
     "output_type": "stream",
     "text": [
      "['item-1']\n"
     ]
    }
   ],
   "source": [
    "from lxml import etree\n",
    "\n",
    "result = html.xpath('//a[@href=\"link4.html\"]/parent::*/@class')\n",
    "print(result)"
   ]
  },
  {
   "cell_type": "code",
   "execution_count": 9,
   "metadata": {},
   "outputs": [
    {
     "name": "stdout",
     "output_type": "stream",
     "text": [
      "[<Element li at 0x20321e11988>, <Element li at 0x20321de2fc8>]\n"
     ]
    }
   ],
   "source": [
    "#属性匹配\n",
    "#用@符号进行属性过滤\n",
    "\n",
    "from lxml import etree\n",
    "result = html.xpath('//li[@class=\"item-1\"]')\n",
    "print(result)"
   ]
  },
  {
   "cell_type": "code",
   "execution_count": 10,
   "metadata": {},
   "outputs": [
    {
     "name": "stdout",
     "output_type": "stream",
     "text": [
      "['second item', 'fourth item']\n"
     ]
    }
   ],
   "source": [
    "#文本获取\n",
    "from lxml import etree\n",
    "result = html.xpath('//li[@class=\"item-1\"]/a/text()')\n",
    "print(result)"
   ]
  },
  {
   "cell_type": "code",
   "execution_count": 6,
   "metadata": {
    "ExecuteTime": {
     "end_time": "2019-09-18T17:59:55.939283Z",
     "start_time": "2019-09-18T17:59:55.933297Z"
    }
   },
   "outputs": [
    {
     "name": "stdout",
     "output_type": "stream",
     "text": [
      "['link1.html', 'link2.html', 'link3.html', 'link4.html', 'link5.html']\n"
     ]
    }
   ],
   "source": [
    "#属性获取\n",
    "print(html.xpath('//li/a/@href'))"
   ]
  },
  {
   "cell_type": "code",
   "execution_count": 19,
   "metadata": {},
   "outputs": [
    {
     "name": "stdout",
     "output_type": "stream",
     "text": [
      "['first item']\n"
     ]
    }
   ],
   "source": [
    "#多属性匹配\n",
    "\n",
    "html = etree.HTML(text2)\n",
    "result = html.xpath('//li[contains(@class, \"li\") and @name=\"item\"]/a/text()')\n",
    "print(result)"
   ]
  },
  {
   "cell_type": "code",
   "execution_count": 22,
   "metadata": {},
   "outputs": [
    {
     "name": "stdout",
     "output_type": "stream",
     "text": [
      "['first item']\n",
      "['fifth item']\n",
      "['first item', 'second item']\n"
     ]
    }
   ],
   "source": [
    "#按序匹配\n",
    "from lxml import etree\n",
    "\n",
    "html = etree.HTML(text)\n",
    "result1 = html.xpath('//li[1]/a/text()')\n",
    "print(result1)\n",
    "result2 = html.xpath('//li[last()]/a/text()')\n",
    "print(result2)\n",
    "result3 = html.xpath('//li[position()<3]/a/text()')\n",
    "print(result3)\n",
    "\n",
    "#具体作用可参考 http://www.w3school.com.cn/xpath/xpath_functions.asp"
   ]
  },
  {
   "cell_type": "code",
   "execution_count": 26,
   "metadata": {},
   "outputs": [
    {
     "name": "stdout",
     "output_type": "stream",
     "text": [
      "[<Element html at 0x20321eaedc8>, <Element body at 0x20321eaeac8>, <Element div at 0x20321eaeb08>, <Element ul at 0x20321eaee08>]\n",
      "[<Element div at 0x20321eaeb08>]\n",
      "['item-0']\n",
      "[<Element a at 0x20320b58648>]\n",
      "[]\n",
      "[<Element a at 0x20321eae3c8>]\n"
     ]
    }
   ],
   "source": [
    "#节点轴选择\n",
    "from lxml import etree\n",
    "\n",
    "html = etree.HTML(text)\n",
    "result = html.xpath('//li[1]/ancestor::*')  #*表示匹配所有节点\n",
    "print(result)\n",
    "result2 = html.xpath('//li[1]/ancestor::div')\n",
    "print(result2)\n",
    "result3 = html.xpath('//li[1]/attribute::*') #子节点\n",
    "print(result3)\n",
    "result4 = html.xpath('//li[1]/child::a[@href=\"link1.html\"]') #子孙节点\n",
    "print(result4)\n",
    "result5 = html.xpath('//li[1]/descendant::span')\n",
    "print(result5)\n",
    "result6 = html.xpath('//li[1]/following::*[2]') #following 获取当前节点后的所以节点\n",
    "print(result6)\n"
   ]
  },
  {
   "cell_type": "code",
   "execution_count": 3,
   "metadata": {
    "ExecuteTime": {
     "end_time": "2019-10-19T15:50:27.563735Z",
     "start_time": "2019-10-19T15:50:27.549771Z"
    }
   },
   "outputs": [],
   "source": [
    "import math\n"
   ]
  },
  {
   "cell_type": "code",
   "execution_count": null,
   "metadata": {
    "collapsed": true
   },
   "outputs": [],
   "source": []
  },
  {
   "cell_type": "code",
   "execution_count": null,
   "metadata": {
    "collapsed": true
   },
   "outputs": [],
   "source": []
  }
 ],
 "metadata": {
  "kernelspec": {
   "display_name": "Python 3",
   "language": "python",
   "name": "python3"
  },
  "language_info": {
   "codemirror_mode": {
    "name": "ipython",
    "version": 3
   },
   "file_extension": ".py",
   "mimetype": "text/x-python",
   "name": "python",
   "nbconvert_exporter": "python",
   "pygments_lexer": "ipython3",
   "version": "3.6.9"
  },
  "toc": {
   "base_numbering": 1,
   "nav_menu": {},
   "number_sections": true,
   "sideBar": true,
   "skip_h1_title": false,
   "title_cell": "Table of Contents",
   "title_sidebar": "Contents",
   "toc_cell": false,
   "toc_position": {},
   "toc_section_display": true,
   "toc_window_display": false
  }
 },
 "nbformat": 4,
 "nbformat_minor": 2
}
