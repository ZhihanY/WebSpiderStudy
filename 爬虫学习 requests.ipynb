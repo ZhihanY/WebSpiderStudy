{
 "cells": [
  {
   "cell_type": "code",
   "execution_count": 1,
   "metadata": {},
   "outputs": [
    {
     "name": "stdout",
     "output_type": "stream",
     "text": [
      "200\n",
      "<class 'requests.models.Response'>\n",
      "<class 'str'>\n",
      "<RequestsCookieJar[<Cookie BDORZ=27315 for .baidu.com/>]>\n"
     ]
    }
   ],
   "source": [
    "import requests\n",
    "r = requests.get('https://www.baidu.com')\n",
    "print(r.status_code)\n",
    "print(type(r))\n",
    "print(type(r.text))\n",
    "print(r.cookies)"
   ]
  },
  {
   "cell_type": "code",
   "execution_count": 2,
   "metadata": {},
   "outputs": [
    {
     "name": "stdout",
     "output_type": "stream",
     "text": [
      "{\n",
      "  \"args\": {}, \n",
      "  \"headers\": {\n",
      "    \"Accept\": \"*/*\", \n",
      "    \"Accept-Encoding\": \"gzip, deflate\", \n",
      "    \"Host\": \"httpbin.org\", \n",
      "    \"User-Agent\": \"python-requests/2.18.4\"\n",
      "  }, \n",
      "  \"origin\": \"183.220.24.90, 183.220.24.90\", \n",
      "  \"url\": \"https://httpbin.org/get\"\n",
      "}\n",
      "\n"
     ]
    }
   ],
   "source": [
    "#Get\n",
    "r = requests.get('http://httpbin.org/get')\n",
    "print(r.text)\n"
   ]
  },
  {
   "cell_type": "code",
   "execution_count": 4,
   "metadata": {},
   "outputs": [
    {
     "name": "stdout",
     "output_type": "stream",
     "text": [
      "{\n",
      "  \"args\": {\n",
      "    \"age\": \"24\", \n",
      "    \"name\": \"ZhihanYang\"\n",
      "  }, \n",
      "  \"headers\": {\n",
      "    \"Accept\": \"*/*\", \n",
      "    \"Accept-Encoding\": \"gzip, deflate\", \n",
      "    \"Host\": \"httpbin.org\", \n",
      "    \"User-Agent\": \"python-requests/2.18.4\"\n",
      "  }, \n",
      "  \"origin\": \"183.220.24.90, 183.220.24.90\", \n",
      "  \"url\": \"https://httpbin.org/get?name=ZhihanYang&age=24\"\n",
      "}\n",
      "\n",
      "{\n",
      "  \"args\": {\n",
      "    \"age\": \"24\", \n",
      "    \"name\": \"ZhihanYang\"\n",
      "  }, \n",
      "  \"headers\": {\n",
      "    \"Accept\": \"*/*\", \n",
      "    \"Accept-Encoding\": \"gzip, deflate\", \n",
      "    \"Host\": \"httpbin.org\", \n",
      "    \"User-Agent\": \"python-requests/2.18.4\"\n",
      "  }, \n",
      "  \"origin\": \"183.220.24.90, 183.220.24.90\", \n",
      "  \"url\": \"https://httpbin.org/get?name=ZhihanYang&age=24\"\n",
      "}\n",
      "\n"
     ]
    }
   ],
   "source": [
    "#1.\n",
    "r = requests.get('http://httpbin.org/get?name=ZhihanYang&age=24')\n",
    "print(r.text)\n",
    "#2.\n",
    "data = {\n",
    "    'name': 'ZhihanYang',\n",
    "    'age': '24'\n",
    "}\n",
    "r2 = requests.get('http://httpbin.org/get', params=data)\n",
    "print(r2.text)\n",
    "\n",
    "#如果想直接解析返回结果得到一个字典格式的话用json()"
   ]
  },
  {
   "cell_type": "code",
   "execution_count": 1,
   "metadata": {
    "ExecuteTime": {
     "end_time": "2019-08-23T15:14:31.543849Z",
     "start_time": "2019-08-23T15:14:30.229922Z"
    }
   },
   "outputs": [
    {
     "name": "stdout",
     "output_type": "stream",
     "text": [
      "[]\n"
     ]
    }
   ],
   "source": [
    "#抓取网页\n",
    "import requests\n",
    "import re\n",
    "\n",
    "headers = {\n",
    "    'User-Agent': 'Mozilla/5.0 (Windows NT 10.0; WOW64) AppleWebKit/537.36 (KHTML, like Gecko) Chrome/58.0.3029.110 Safari/537.36 SE 2.X MetaSr 1.0'\n",
    "}\n",
    "\n",
    "r = requests.get('https://www.zhihu.com/explore', headers=headers)\n",
    "pattern = re.compile('explore-feed.*?question_link.*?>(.*?)</a>', re.S)\n",
    "titles = re.findall(pattern, r.text)\n",
    "print(titles)\n"
   ]
  },
  {
   "cell_type": "code",
   "execution_count": 10,
   "metadata": {
    "ExecuteTime": {
     "end_time": "2019-08-23T15:42:34.871520Z",
     "start_time": "2019-08-23T15:42:34.861554Z"
    }
   },
   "outputs": [
    {
     "ename": "SyntaxError",
     "evalue": "invalid syntax (<ipython-input-10-6c4836e9b8de>, line 3)",
     "output_type": "error",
     "traceback": [
      "\u001b[1;36m  File \u001b[1;32m\"<ipython-input-10-6c4836e9b8de>\"\u001b[1;36m, line \u001b[1;32m3\u001b[0m\n\u001b[1;33m    soup.find_all(class = 'ExploreSpecialCard')\u001b[0m\n\u001b[1;37m                      ^\u001b[0m\n\u001b[1;31mSyntaxError\u001b[0m\u001b[1;31m:\u001b[0m invalid syntax\n"
     ]
    }
   ],
   "source": [
    "from bs4 import BeautifulSoup\n",
    "soup = BeautifulSoup(r.text, 'lxml')\n",
    "soup.find_all(class = 'ExploreSpecialCard')\n",
    "#print(r.text)"
   ]
  },
  {
   "cell_type": "code",
   "execution_count": 3,
   "metadata": {
    "collapsed": true
   },
   "outputs": [],
   "source": [
    "#抓取二进制数据\n",
    "r2 = requests.get('https://www.github.com/favicon.ico')\n",
    "with open('favicon.ico','wb') as f:\n",
    "    f.write(r.content)\n",
    "\n",
    "#音频与视频文件也可以采取这种方式抓取"
   ]
  },
  {
   "cell_type": "code",
   "execution_count": 6,
   "metadata": {},
   "outputs": [
    {
     "name": "stdout",
     "output_type": "stream",
     "text": [
      "{\n",
      "  \"args\": {}, \n",
      "  \"data\": \"\", \n",
      "  \"files\": {}, \n",
      "  \"form\": {\n",
      "    \"age\": \"24\", \n",
      "    \"name\": \"ZhihanYang\"\n",
      "  }, \n",
      "  \"headers\": {\n",
      "    \"Accept\": \"*/*\", \n",
      "    \"Accept-Encoding\": \"gzip, deflate\", \n",
      "    \"Content-Length\": \"22\", \n",
      "    \"Content-Type\": \"application/x-www-form-urlencoded\", \n",
      "    \"Host\": \"httpbin.org\", \n",
      "    \"User-Agent\": \"python-requests/2.18.4\"\n",
      "  }, \n",
      "  \"json\": null, \n",
      "  \"origin\": \"183.220.24.90, 183.220.24.90\", \n",
      "  \"url\": \"https://httpbin.org/post\"\n",
      "}\n",
      "\n"
     ]
    }
   ],
   "source": [
    "#Post\n",
    "import requests\n",
    "\n",
    "data = {\n",
    "    'name': 'ZhihanYang',\n",
    "    'age': '24'\n",
    "}\n",
    "r3 = requests.post('http://httpbin.org/post', data=data)\n",
    "print(r3.text)"
   ]
  },
  {
   "cell_type": "code",
   "execution_count": null,
   "metadata": {
    "collapsed": true
   },
   "outputs": [],
   "source": [
    "#响应\n"
   ]
  },
  {
   "cell_type": "code",
   "execution_count": 10,
   "metadata": {
    "collapsed": true
   },
   "outputs": [],
   "source": [
    "#文件上传\n",
    "import requests\n",
    "\n",
    "files = {'file': open('favicon.ico', 'rb')}\n",
    "r4 = requests.post('http://httpbin.org/post', files=files)\n",
    "#print(r4.text)"
   ]
  },
  {
   "cell_type": "code",
   "execution_count": 16,
   "metadata": {},
   "outputs": [
    {
     "name": "stdout",
     "output_type": "stream",
     "text": [
      "BDORZ=27315\n"
     ]
    }
   ],
   "source": [
    "#Cookies\n",
    "r5 = requests.get('https://www.baidu.com')\n",
    "#print(r5.cookies)\n",
    "for key,value in r5.cookies.items():\n",
    "    print(key + '=' + value)\n",
    "#使用items()方法将其转化为元组组成的列表，遍历出每个cookie的名与值，实现其遍历解析\n"
   ]
  },
  {
   "cell_type": "code",
   "execution_count": 17,
   "metadata": {},
   "outputs": [
    {
     "name": "stdout",
     "output_type": "stream",
     "text": [
      "<RequestsCookieJar[<Cookie _xsrf=rFSEC2r4z8e5vbvyfA9Z0Bc0GcYnIHMC for .zhihu.com/>, <Cookie tgw_l7_route=7bacb9af7224ed68945ce419f4dea76d for www.zhihu.com/>]>\n"
     ]
    }
   ],
   "source": [
    "#知乎cookies获取\n",
    "r10 = requests.get('https://www.zhihu.com')\n",
    "print(r10.cookies)"
   ]
  },
  {
   "cell_type": "code",
   "execution_count": 21,
   "metadata": {},
   "outputs": [
    {
     "name": "stdout",
     "output_type": "stream",
     "text": [
      "{\n",
      "  \"cookies\": {\n",
      "    \"nubmer\": \"123456789\"\n",
      "  }\n",
      "}\n",
      "\n"
     ]
    }
   ],
   "source": [
    "#会话维持 通常用于模拟登录成功后进行下一步的操作\n",
    "import requests\n",
    "s = requests.Session()\n",
    "s.get('http://httpbin.org/cookies/set/nubmer/123456789')\n",
    "r6 = s.get('http://httpbin.org/cookies')\n",
    "print(r6.text)\n",
    "#print(r6.status_code)"
   ]
  },
  {
   "cell_type": "code",
   "execution_count": null,
   "metadata": {
    "collapsed": true
   },
   "outputs": [],
   "source": [
    "#SSL证书验证\n",
    "import requests\n",
    "\n",
    "response = requests.get('https:www.12306.cn', verify=False)\n",
    "print(response.status_code)"
   ]
  },
  {
   "cell_type": "code",
   "execution_count": 25,
   "metadata": {
    "collapsed": true
   },
   "outputs": [],
   "source": [
    "#代理设置\n",
    "proxies = {\n",
    "    'http': 'http://10.10.1.10:3128',\n",
    "    'https': '10.10.1.10:1080'\n",
    "}\n",
    "#r7 = requests.get('https://www.taobao.com', proxies=proxies) #超时设置 timeout=1 永久为None\n",
    "#print(r7.text)"
   ]
  },
  {
   "cell_type": "code",
   "execution_count": null,
   "metadata": {
    "collapsed": true
   },
   "outputs": [],
   "source": [
    "#身份认证\n",
    "import requests\n",
    "from requests.auth import HTTPBasicAuth\n",
    "\n",
    "r8 = requests.get('http://localhost:5000', auth=HTTPBasicAuth('username', 'password'))\n",
    "print(r8.status_code)\n"
   ]
  },
  {
   "cell_type": "code",
   "execution_count": 29,
   "metadata": {},
   "outputs": [
    {
     "name": "stdout",
     "output_type": "stream",
     "text": [
      "{\n",
      "  \"args\": {}, \n",
      "  \"data\": \"\", \n",
      "  \"files\": {}, \n",
      "  \"form\": {\n",
      "    \"name\": \"ZhihanYang\"\n",
      "  }, \n",
      "  \"headers\": {\n",
      "    \"Accept\": \"*/*\", \n",
      "    \"Accept-Encoding\": \"gzip, deflate\", \n",
      "    \"Content-Length\": \"15\", \n",
      "    \"Content-Type\": \"application/x-www-form-urlencoded\", \n",
      "    \"Host\": \"httpbin.org\", \n",
      "    \"User-Agent\": \"Mozilla/5.0 (Windows NT 10.0; WOW64) AppleWebKit/537.36 (KHTML, like Gecko) Chrome/58.0.3029.110 Safari/537.36 SE 2.X MetaSr 1.0\"\n",
      "  }, \n",
      "  \"json\": null, \n",
      "  \"origin\": \"183.220.24.90, 183.220.24.90\", \n",
      "  \"url\": \"https://httpbin.org/post\"\n",
      "}\n",
      "\n"
     ]
    }
   ],
   "source": [
    "#Prepared request 类似于urllib.request.Request 封装一个对象\n",
    "#实例\n",
    "from requests import Request, Session\n",
    "\n",
    "url = 'http://httpbin.org/post'\n",
    "data = {\n",
    "    'name': 'ZhihanYang'\n",
    "}\n",
    "\n",
    "headers = {\n",
    "    'User-Agent': 'Mozilla/5.0 (Windows NT 10.0; WOW64) AppleWebKit/537.36 (KHTML, like Gecko) Chrome/58.0.3029.110 Safari/537.36 SE 2.X MetaSr 1.0'\n",
    "}\n",
    "s = Session()\n",
    "req  = Request('Post',url, data=data, headers=headers)\n",
    "\n",
    "prepared = s.prepare_request(req)\n",
    "r9 = s.send(prepared)\n",
    "print(r9.text)\n"
   ]
  },
  {
   "cell_type": "code",
   "execution_count": null,
   "metadata": {
    "collapsed": true
   },
   "outputs": [],
   "source": []
  },
  {
   "cell_type": "code",
   "execution_count": null,
   "metadata": {
    "collapsed": true
   },
   "outputs": [],
   "source": []
  }
 ],
 "metadata": {
  "kernelspec": {
   "display_name": "Python 3",
   "language": "python",
   "name": "python3"
  },
  "language_info": {
   "codemirror_mode": {
    "name": "ipython",
    "version": 3
   },
   "file_extension": ".py",
   "mimetype": "text/x-python",
   "name": "python",
   "nbconvert_exporter": "python",
   "pygments_lexer": "ipython3",
   "version": "3.6.3"
  },
  "toc": {
   "base_numbering": 1,
   "nav_menu": {},
   "number_sections": true,
   "sideBar": true,
   "skip_h1_title": false,
   "title_cell": "Table of Contents",
   "title_sidebar": "Contents",
   "toc_cell": false,
   "toc_position": {},
   "toc_section_display": true,
   "toc_window_display": false
  }
 },
 "nbformat": 4,
 "nbformat_minor": 2
}
